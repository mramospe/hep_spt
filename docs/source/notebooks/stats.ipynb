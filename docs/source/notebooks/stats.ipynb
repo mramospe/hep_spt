{
 "cells": [
  {
   "cell_type": "markdown",
   "metadata": {},
   "source": [
    "# Statistical tools\n",
    "This package provides functions and classes to solve several statistical problems in High Energy Physics. Here, we will see how to calculate uncertainties for poissonian values. Some other classes, focused on handling probability density functions are also discussed."
   ]
  },
  {
   "cell_type": "code",
   "execution_count": 1,
   "metadata": {},
   "outputs": [],
   "source": [
    "%matplotlib inline\n",
    "import hep_spt\n",
    "hep_spt.set_style()\n",
    "import math\n",
    "import matplotlib.pyplot as plt\n",
    "import numpy as np"
   ]
  },
  {
   "cell_type": "markdown",
   "metadata": {},
   "source": [
    "## Uncertainties on poissonian values\n",
    "There are several options for calculating poissonian uncertainties, depending if one follows a bayesian of frequentist approach. Here, we will take a look at the frequentist uncertainties and to the method based on the differential of the logarithm of likelihood, comparing them to the standard rule of $\\sqrt{n}$, which is only valid when the central limit theorem applies to our values."
   ]
  },
  {
   "cell_type": "code",
   "execution_count": 2,
   "metadata": {},
   "outputs": [
    {
     "data": {
      "image/png": "[encoded data removed]",
      "text/plain": [
       "<matplotlib.figure.Figure at 0x7f3603293a90>"
      ]
     },
     "metadata": {},
     "output_type": "display_data"
    }
   ],
   "source": [
    "value = 4\n",
    "\n",
    "# Frequentist\n",
    "fu_l, fu_h = hep_spt.poisson_fu(value)\n",
    "# Differential logarithm of likelihood\n",
    "du_l, du_h = hep_spt.poisson_llu(value)\n",
    "# Usual approach sqrt(n)\n",
    "su = math.sqrt(value)\n",
    "\n",
    "# Plot the results\n",
    "errs = np.array([(fu_l, fu_h), (du_l, du_h), (su, su)])\n",
    "\n",
    "x = np.arange(1, len(errs) + 1)\n",
    "y = value*np.ones(len(errs))\n",
    "\n",
    "plt.errorbar(x, y, yerr=errs.T, ls='none', marker='o');\n",
    "plt.xticks(x, ['Frequentist', 'DLL', '$\\sqrt{n}$']);\n",
    "plt.gca().set_xlim([0, len(errs) + 1]);\n",
    "plt.gca().set_ylim([0, 8]);\n",
    "\n",
    "for ix, iy, (l, h) in zip(x, y, errs):\n",
    "    plt.gca().annotate('-{:.2f}'.format(l), (ix - 0.25, iy - 0.5), rotation=90, va='top')\n",
    "    plt.gca().annotate('+{:.2f}'.format(h), (ix - 0.25, iy + 0.5), rotation=90, va='bottom')"
   ]
  },
  {
   "cell_type": "markdown",
   "metadata": {},
   "source": [
    "## The FlatDistTransform class\n",
    "The class FlatDistTransform allows to build a method to use the inverse transform sampling theorem to transform values following a certain distribution into anothers following a flat distribution. Let's consider two different normal distributions, corresponding to two different types of data."
   ]
  },
  {
   "cell_type": "code",
   "execution_count": 3,
   "metadata": {},
   "outputs": [],
   "source": [
    "smp_a = np.random.normal(100, 5, 10000)\n",
    "smp_b = np.random.normal(80, 20, 10000)"
   ]
  },
  {
   "cell_type": "markdown",
   "metadata": {},
   "source": [
    "Now let's create the FlatDistTransform object, and transform the two samples."
   ]
  },
  {
   "cell_type": "code",
   "execution_count": 4,
   "metadata": {},
   "outputs": [],
   "source": [
    "trf = hep_spt.FlatDistTransform(smp_a)\n",
    "\n",
    "t_a = trf.transform(smp_a)\n",
    "t_b = trf.transform(smp_b)"
   ]
  },
  {
   "cell_type": "markdown",
   "metadata": {},
   "source": [
    "The transform of \"smp_a\" should follow a flat distribution. Let's plot the results to check it."
   ]
  },
  {
   "cell_type": "code",
   "execution_count": 5,
   "metadata": {},
   "outputs": [
    {
     "data": {
      "image/png": "[encoded data removed]",
      "text/plain": [
       "<matplotlib.figure.Figure at 0x7f3603293160>"
      ]
     },
     "metadata": {},
     "output_type": "display_data"
    }
   ],
   "source": [
    "f, (ax0, ax1) = plt.subplots(1, 2)\n",
    "\n",
    "cm = {'bins': 40, 'histtype': 'step'}\n",
    "\n",
    "cm.update({'range': (10, 150)})\n",
    "ax0.hist(smp_a, color='blue', **cm);\n",
    "ax0.hist(smp_b, color='red', **cm);\n",
    "ax0.set_title('Original');\n",
    "\n",
    "cm.update({'range': (0, 1)})\n",
    "ax1.hist(t_a, color='blue', **cm);\n",
    "ax1.hist(t_b, color='red', **cm);\n",
    "ax1.set_title('Transformation');\n",
    "ax1.set_yscale('log', nonposy='clip')"
   ]
  },
  {
   "cell_type": "code",
   "execution_count": 6,
   "metadata": {},
   "outputs": [],
   "source": []
  }
 ],
 "metadata": {
  "kernelspec": {
   "display_name": "Python 3",
   "language": "python",
   "name": "python3"
  },
  "language_info": {
   "codemirror_mode": {
    "name": "ipython",
    "version": 3
   },
   "file_extension": ".py",
   "mimetype": "text/x-python",
   "name": "python",
   "nbconvert_exporter": "python",
   "pygments_lexer": "ipython3",
   "version": "3.5.2"
  }
 },
 "nbformat": 4,
 "nbformat_minor": 2
}
