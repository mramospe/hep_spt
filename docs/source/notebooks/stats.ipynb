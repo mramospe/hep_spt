{
 "cells": [
  {
   "cell_type": "markdown",
   "metadata": {},
   "source": [
    "# Stats"
   ]
  },
  {
   "cell_type": "code",
   "execution_count": 1,
   "metadata": {},
   "outputs": [],
   "source": [
    "# Import the modules and set the matplotlib style\n",
    "import hep_spt\n",
    "hep_spt.set_style()\n",
    "import matplotlib.pyplot as plt\n",
    "import numpy as np"
   ]
  },
  {
   "cell_type": "markdown",
   "metadata": {},
   "source": [
    "## The FlatDistTransform class\n",
    "The class FlatDistTransform allows to build a method to use the inverse transform sampling theorem to transform values following a certain distribution into anothers following a flat distribution. Let's consider two different normal distributions, corresponding to two different types of data."
   ]
  },
  {
   "cell_type": "code",
   "execution_count": 2,
   "metadata": {},
   "outputs": [],
   "source": [
    "smp_a = np.random.normal(100, 5, 10000)\n",
    "smp_b = np.random.normal(80, 20, 10000)"
   ]
  },
  {
   "cell_type": "markdown",
   "metadata": {},
   "source": [
    "Now let's create the FlatDistTransform object, and transform the two samples."
   ]
  },
  {
   "cell_type": "code",
   "execution_count": 5,
   "metadata": {},
   "outputs": [],
   "source": [
    "trf = hep_spt.FlatDistTransform(smp_a)\n",
    "\n",
    "t_a = trf.transform(smp_a)\n",
    "t_b = trf.transform(smp_b)"
   ]
  },
  {
   "cell_type": "markdown",
   "metadata": {},
   "source": [
    "The transform of \"smp_a\" should follow a flat distribution. Let's plot the results to check it."
   ]
  },
  {
   "cell_type": "code",
   "execution_count": 13,
   "metadata": {},
   "outputs": [
    {
     "data": {
      "image/png": "[encoded data removed]",
      "text/plain": [
       "<matplotlib.figure.Figure at 0x7f17ed2530d0>"
      ]
     },
     "metadata": {},
     "output_type": "display_data"
    }
   ],
   "source": [
    "f, (ax0, ax1) = plt.subplots(1, 2)\n",
    "\n",
    "cm = {'bins': 40, 'histtype': 'step'}\n",
    "\n",
    "cm.update({'range': (10, 150)})\n",
    "ax0.hist(smp_a, color='blue', **cm);\n",
    "ax0.hist(smp_b, color='red', **cm);\n",
    "ax0.set_title('Original');\n",
    "\n",
    "cm.update({'range': (0, 1)})\n",
    "ax1.hist(t_a, color='blue', **cm);\n",
    "ax1.hist(t_b, color='red', **cm);\n",
    "ax1.set_title('Transformation');"
   ]
  },
  {
   "cell_type": "code",
   "execution_count": null,
   "metadata": {},
   "outputs": [],
   "source": []
  }
 ],
 "metadata": {
  "kernelspec": {
   "display_name": "Python 2",
   "language": "python",
   "name": "python2"
  },
  "language_info": {
   "codemirror_mode": {
    "name": "ipython",
    "version": 2
   },
   "file_extension": ".py",
   "mimetype": "text/x-python",
   "name": "python",
   "nbconvert_exporter": "python",
   "pygments_lexer": "ipython2",
   "version": "2.7.12"
  }
 },
 "nbformat": 4,
 "nbformat_minor": 2
}
